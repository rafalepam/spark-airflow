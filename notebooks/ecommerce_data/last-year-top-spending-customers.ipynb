{
 "cells": [
  {
   "cell_type": "code",
   "execution_count": 1,
   "id": "0a5ebcf1",
   "metadata": {},
   "outputs": [],
   "source": [
    "import pyspark\n",
    "from pyspark.sql import SparkSession\n",
    "from pyspark.sql import Window\n",
    "from pyspark.sql.functions import *\n",
    "from pyspark import SparkContext"
   ]
  },
  {
   "cell_type": "code",
   "execution_count": 2,
   "id": "2afeedeb",
   "metadata": {},
   "outputs": [
    {
     "name": "stderr",
     "output_type": "stream",
     "text": [
      "WARNING: An illegal reflective access operation has occurred\n",
      "WARNING: Illegal reflective access by org.apache.spark.unsafe.Platform (file:/usr/local/spark-3.1.2-bin-hadoop3.2/jars/spark-unsafe_2.12-3.1.2.jar) to constructor java.nio.DirectByteBuffer(long,int)\n",
      "WARNING: Please consider reporting this to the maintainers of org.apache.spark.unsafe.Platform\n",
      "WARNING: Use --illegal-access=warn to enable warnings of further illegal reflective access operations\n",
      "WARNING: All illegal access operations will be denied in a future release\n",
      "22/08/17 10:02:13 WARN NativeCodeLoader: Unable to load native-hadoop library for your platform... using builtin-java classes where applicable\n",
      "Using Spark's default log4j profile: org/apache/spark/log4j-defaults.properties\n",
      "Setting default log level to \"WARN\".\n",
      "To adjust logging level use sc.setLogLevel(newLevel). For SparkR, use setLogLevel(newLevel).\n"
     ]
    }
   ],
   "source": [
    "spark = SparkSession.builder.appName(\"last-year-top-spending-customers\").getOrCreate()"
   ]
  },
  {
   "cell_type": "code",
   "execution_count": 3,
   "id": "daccca7e",
   "metadata": {},
   "outputs": [],
   "source": [
    "orders_df = spark.read.option(\"inferSchema\", \"True\").option(\"header\", \"true\") \\\n",
    "                      .csv(\"/home/jovyan/work/notebooks/ecommerce_data/olist_orders_dataset.csv\")\n",
    "customers_df = spark.read.option(\"inferSchema\", \"True\").option(\"header\", \"true\") \\\n",
    "                         .csv(\"/home/jovyan/work/notebooks/ecommerce_data/olist_customers_dataset.csv\")\n",
    "payments_df = spark.read.option(\"inferSchema\", \"True\").option(\"header\", \"true\") \\\n",
    "                        .csv(\"/home/jovyan/work/notebooks/ecommerce_data/olist_order_payments_dataset.csv\")"
   ]
  },
  {
   "cell_type": "code",
   "execution_count": 13,
   "id": "603f5d57",
   "metadata": {},
   "outputs": [
    {
     "data": {
      "text/html": [
       "<div>\n",
       "<style scoped>\n",
       "    .dataframe tbody tr th:only-of-type {\n",
       "        vertical-align: middle;\n",
       "    }\n",
       "\n",
       "    .dataframe tbody tr th {\n",
       "        vertical-align: top;\n",
       "    }\n",
       "\n",
       "    .dataframe thead th {\n",
       "        text-align: right;\n",
       "    }\n",
       "</style>\n",
       "<table border=\"1\" class=\"dataframe\">\n",
       "  <thead>\n",
       "    <tr style=\"text-align: right;\">\n",
       "      <th></th>\n",
       "      <th>order_id</th>\n",
       "      <th>customer_id</th>\n",
       "      <th>order_status</th>\n",
       "      <th>order_purchase_timestamp</th>\n",
       "      <th>order_approved_at</th>\n",
       "      <th>order_delivered_carrier_date</th>\n",
       "      <th>order_delivered_customer_date</th>\n",
       "      <th>order_estimated_delivery_date</th>\n",
       "    </tr>\n",
       "  </thead>\n",
       "  <tbody>\n",
       "    <tr>\n",
       "      <th>0</th>\n",
       "      <td>e481f51cbdc54678b7cc49136f2d6af7</td>\n",
       "      <td>9ef432eb6251297304e76186b10a928d</td>\n",
       "      <td>delivered</td>\n",
       "      <td>2017-10-02 10:56:33</td>\n",
       "      <td>2017-10-02 11:07:15</td>\n",
       "      <td>2017-10-04 19:55:00</td>\n",
       "      <td>2017-10-10 21:25:13</td>\n",
       "      <td>2017-10-18 00:00:00</td>\n",
       "    </tr>\n",
       "    <tr>\n",
       "      <th>1</th>\n",
       "      <td>53cdb2fc8bc7dce0b6741e2150273451</td>\n",
       "      <td>b0830fb4747a6c6d20dea0b8c802d7ef</td>\n",
       "      <td>delivered</td>\n",
       "      <td>2018-07-24 20:41:37</td>\n",
       "      <td>2018-07-26 03:24:27</td>\n",
       "      <td>2018-07-26 14:31:00</td>\n",
       "      <td>2018-08-07 15:27:45</td>\n",
       "      <td>2018-08-13 00:00:00</td>\n",
       "    </tr>\n",
       "    <tr>\n",
       "      <th>2</th>\n",
       "      <td>47770eb9100c2d0c44946d9cf07ec65d</td>\n",
       "      <td>41ce2a54c0b03bf3443c3d931a367089</td>\n",
       "      <td>delivered</td>\n",
       "      <td>2018-08-08 08:38:49</td>\n",
       "      <td>2018-08-08 08:55:23</td>\n",
       "      <td>2018-08-08 13:50:00</td>\n",
       "      <td>2018-08-17 18:06:29</td>\n",
       "      <td>2018-09-04 00:00:00</td>\n",
       "    </tr>\n",
       "    <tr>\n",
       "      <th>3</th>\n",
       "      <td>949d5b44dbf5de918fe9c16f97b45f8a</td>\n",
       "      <td>f88197465ea7920adcdbec7375364d82</td>\n",
       "      <td>delivered</td>\n",
       "      <td>2017-11-18 19:28:06</td>\n",
       "      <td>2017-11-18 19:45:59</td>\n",
       "      <td>2017-11-22 13:39:59</td>\n",
       "      <td>2017-12-02 00:28:42</td>\n",
       "      <td>2017-12-15 00:00:00</td>\n",
       "    </tr>\n",
       "    <tr>\n",
       "      <th>4</th>\n",
       "      <td>ad21c59c0840e6cb83a9ceb5573f8159</td>\n",
       "      <td>8ab97904e6daea8866dbdbc4fb7aad2c</td>\n",
       "      <td>delivered</td>\n",
       "      <td>2018-02-13 21:18:39</td>\n",
       "      <td>2018-02-13 22:20:29</td>\n",
       "      <td>2018-02-14 19:46:34</td>\n",
       "      <td>2018-02-16 18:17:02</td>\n",
       "      <td>2018-02-26 00:00:00</td>\n",
       "    </tr>\n",
       "    <tr>\n",
       "      <th>...</th>\n",
       "      <td>...</td>\n",
       "      <td>...</td>\n",
       "      <td>...</td>\n",
       "      <td>...</td>\n",
       "      <td>...</td>\n",
       "      <td>...</td>\n",
       "      <td>...</td>\n",
       "      <td>...</td>\n",
       "    </tr>\n",
       "    <tr>\n",
       "      <th>99436</th>\n",
       "      <td>9c5dedf39a927c1b2549525ed64a053c</td>\n",
       "      <td>39bd1228ee8140590ac3aca26f2dfe00</td>\n",
       "      <td>delivered</td>\n",
       "      <td>2017-03-09 09:54:05</td>\n",
       "      <td>2017-03-09 09:54:05</td>\n",
       "      <td>2017-03-10 11:18:03</td>\n",
       "      <td>2017-03-17 15:08:01</td>\n",
       "      <td>2017-03-28 00:00:00</td>\n",
       "    </tr>\n",
       "    <tr>\n",
       "      <th>99437</th>\n",
       "      <td>63943bddc261676b46f01ca7ac2f7bd8</td>\n",
       "      <td>1fca14ff2861355f6e5f14306ff977a7</td>\n",
       "      <td>delivered</td>\n",
       "      <td>2018-02-06 12:58:58</td>\n",
       "      <td>2018-02-06 13:10:37</td>\n",
       "      <td>2018-02-07 23:22:42</td>\n",
       "      <td>2018-02-28 17:37:56</td>\n",
       "      <td>2018-03-02 00:00:00</td>\n",
       "    </tr>\n",
       "    <tr>\n",
       "      <th>99438</th>\n",
       "      <td>83c1379a015df1e13d02aae0204711ab</td>\n",
       "      <td>1aa71eb042121263aafbe80c1b562c9c</td>\n",
       "      <td>delivered</td>\n",
       "      <td>2017-08-27 14:46:43</td>\n",
       "      <td>2017-08-27 15:04:16</td>\n",
       "      <td>2017-08-28 20:52:26</td>\n",
       "      <td>2017-09-21 11:24:17</td>\n",
       "      <td>2017-09-27 00:00:00</td>\n",
       "    </tr>\n",
       "    <tr>\n",
       "      <th>99439</th>\n",
       "      <td>11c177c8e97725db2631073c19f07b62</td>\n",
       "      <td>b331b74b18dc79bcdf6532d51e1637c1</td>\n",
       "      <td>delivered</td>\n",
       "      <td>2018-01-08 21:28:27</td>\n",
       "      <td>2018-01-08 21:36:21</td>\n",
       "      <td>2018-01-12 15:35:03</td>\n",
       "      <td>2018-01-25 23:32:54</td>\n",
       "      <td>2018-02-15 00:00:00</td>\n",
       "    </tr>\n",
       "    <tr>\n",
       "      <th>99440</th>\n",
       "      <td>66dea50a8b16d9b4dee7af250b4be1a5</td>\n",
       "      <td>edb027a75a1449115f6b43211ae02a24</td>\n",
       "      <td>delivered</td>\n",
       "      <td>2018-03-08 20:57:30</td>\n",
       "      <td>2018-03-09 11:20:28</td>\n",
       "      <td>2018-03-09 22:11:59</td>\n",
       "      <td>2018-03-16 13:08:30</td>\n",
       "      <td>2018-04-03 00:00:00</td>\n",
       "    </tr>\n",
       "  </tbody>\n",
       "</table>\n",
       "<p>99441 rows × 8 columns</p>\n",
       "</div>"
      ],
      "text/plain": [
       "                               order_id                       customer_id  \\\n",
       "0      e481f51cbdc54678b7cc49136f2d6af7  9ef432eb6251297304e76186b10a928d   \n",
       "1      53cdb2fc8bc7dce0b6741e2150273451  b0830fb4747a6c6d20dea0b8c802d7ef   \n",
       "2      47770eb9100c2d0c44946d9cf07ec65d  41ce2a54c0b03bf3443c3d931a367089   \n",
       "3      949d5b44dbf5de918fe9c16f97b45f8a  f88197465ea7920adcdbec7375364d82   \n",
       "4      ad21c59c0840e6cb83a9ceb5573f8159  8ab97904e6daea8866dbdbc4fb7aad2c   \n",
       "...                                 ...                               ...   \n",
       "99436  9c5dedf39a927c1b2549525ed64a053c  39bd1228ee8140590ac3aca26f2dfe00   \n",
       "99437  63943bddc261676b46f01ca7ac2f7bd8  1fca14ff2861355f6e5f14306ff977a7   \n",
       "99438  83c1379a015df1e13d02aae0204711ab  1aa71eb042121263aafbe80c1b562c9c   \n",
       "99439  11c177c8e97725db2631073c19f07b62  b331b74b18dc79bcdf6532d51e1637c1   \n",
       "99440  66dea50a8b16d9b4dee7af250b4be1a5  edb027a75a1449115f6b43211ae02a24   \n",
       "\n",
       "      order_status order_purchase_timestamp    order_approved_at  \\\n",
       "0        delivered      2017-10-02 10:56:33  2017-10-02 11:07:15   \n",
       "1        delivered      2018-07-24 20:41:37  2018-07-26 03:24:27   \n",
       "2        delivered      2018-08-08 08:38:49  2018-08-08 08:55:23   \n",
       "3        delivered      2017-11-18 19:28:06  2017-11-18 19:45:59   \n",
       "4        delivered      2018-02-13 21:18:39  2018-02-13 22:20:29   \n",
       "...            ...                      ...                  ...   \n",
       "99436    delivered      2017-03-09 09:54:05  2017-03-09 09:54:05   \n",
       "99437    delivered      2018-02-06 12:58:58  2018-02-06 13:10:37   \n",
       "99438    delivered      2017-08-27 14:46:43  2017-08-27 15:04:16   \n",
       "99439    delivered      2018-01-08 21:28:27  2018-01-08 21:36:21   \n",
       "99440    delivered      2018-03-08 20:57:30  2018-03-09 11:20:28   \n",
       "\n",
       "      order_delivered_carrier_date order_delivered_customer_date  \\\n",
       "0              2017-10-04 19:55:00           2017-10-10 21:25:13   \n",
       "1              2018-07-26 14:31:00           2018-08-07 15:27:45   \n",
       "2              2018-08-08 13:50:00           2018-08-17 18:06:29   \n",
       "3              2017-11-22 13:39:59           2017-12-02 00:28:42   \n",
       "4              2018-02-14 19:46:34           2018-02-16 18:17:02   \n",
       "...                            ...                           ...   \n",
       "99436          2017-03-10 11:18:03           2017-03-17 15:08:01   \n",
       "99437          2018-02-07 23:22:42           2018-02-28 17:37:56   \n",
       "99438          2017-08-28 20:52:26           2017-09-21 11:24:17   \n",
       "99439          2018-01-12 15:35:03           2018-01-25 23:32:54   \n",
       "99440          2018-03-09 22:11:59           2018-03-16 13:08:30   \n",
       "\n",
       "      order_estimated_delivery_date  \n",
       "0               2017-10-18 00:00:00  \n",
       "1               2018-08-13 00:00:00  \n",
       "2               2018-09-04 00:00:00  \n",
       "3               2017-12-15 00:00:00  \n",
       "4               2018-02-26 00:00:00  \n",
       "...                             ...  \n",
       "99436           2017-03-28 00:00:00  \n",
       "99437           2018-03-02 00:00:00  \n",
       "99438           2017-09-27 00:00:00  \n",
       "99439           2018-02-15 00:00:00  \n",
       "99440           2018-04-03 00:00:00  \n",
       "\n",
       "[99441 rows x 8 columns]"
      ]
     },
     "execution_count": 13,
     "metadata": {},
     "output_type": "execute_result"
    }
   ],
   "source": [
    "orders_df.toPandas()"
   ]
  },
  {
   "cell_type": "code",
   "execution_count": 15,
   "id": "78c4c840",
   "metadata": {},
   "outputs": [
    {
     "name": "stdout",
     "output_type": "stream",
     "text": [
      "+------------------------------+-------------------------------------+\n",
      "|year(order_purchase_timestamp)|count(year(order_purchase_timestamp))|\n",
      "+------------------------------+-------------------------------------+\n",
      "|                          2018|                                54011|\n",
      "|                          2016|                                  329|\n",
      "|                          2017|                                45101|\n",
      "+------------------------------+-------------------------------------+\n",
      "\n"
     ]
    }
   ],
   "source": [
    "orders_df.groupBy(year(col(\"order_purchase_timestamp\"))).agg(count(year(col(\"order_purchase_timestamp\")))).show()"
   ]
  },
  {
   "cell_type": "code",
   "execution_count": 54,
   "id": "913701e4",
   "metadata": {},
   "outputs": [
    {
     "name": "stdout",
     "output_type": "stream",
     "text": [
      "+--------------------+------------------+\n",
      "|  customer_unique_id|sum(payment_value)|\n",
      "+--------------------+------------------+\n",
      "|000bfa1d2f1a41876...|             46.85|\n",
      "|004ad212c650c96c8...|              25.9|\n",
      "|004b45ec5c6418746...|             97.87|\n",
      "|005e32bc930906dc6...|              49.6|\n",
      "|005ff4ebe100db3ee...|            236.81|\n",
      "|006031108b00e5f73...|            204.83|\n",
      "|0066b328e72fd82fd...|             94.35|\n",
      "|00776f3807b128bec...|            321.57|\n",
      "|007ad549acb91673f...|             90.85|\n",
      "|009062f98089a0916...|             30.27|\n",
      "|00970787f181925ba...|              35.4|\n",
      "|00ae9ea276a5a4335...|             140.0|\n",
      "|00e2972a013072289...|            215.05|\n",
      "|00e5ea6932dffb682...|             68.89|\n",
      "|010c88e815c838612...|            223.44|\n",
      "|0116dc6ddf277eb84...|              53.7|\n",
      "|0122d73327d9135f8...|              67.5|\n",
      "|01290b6163d2a0251...|             96.71|\n",
      "|013523c76f4749da7...|             47.82|\n",
      "|0136e40591d769adf...|              58.0|\n",
      "+--------------------+------------------+\n",
      "only showing top 20 rows\n",
      "\n"
     ]
    }
   ],
   "source": [
    "df2 = orders_df.join(payments_df, payments_df.order_id == orders_df.order_id).drop(payments_df.order_id) \\\n",
    "               .join(customers_df, customers_df.customer_id == orders_df.customer_id).drop(orders_df.customer_id) \\\n",
    "               .filter(year(\"order_purchase_timestamp\") == 2017).filter(month(\"order_purchase_timestamp\") == 9) \\\n",
    "               .groupBy(\"customer_unique_id\").agg(sum(\"payment_value\")).orderBy(\"customer_unique_id\").show()"
   ]
  },
  {
   "cell_type": "code",
   "execution_count": 49,
   "id": "0a67a901",
   "metadata": {},
   "outputs": [],
   "source": [
    "last_yearx = year(col(\"current_timestamp\")) - 5\n",
    "df1 = orders_df.join(payments_df, payments_df.order_id == orders_df.order_id).drop(payments_df.order_id) \\\n",
    "               .join(customers_df, customers_df.customer_id == orders_df.customer_id).drop(orders_df.customer_id) \\\n",
    "               .groupBy([\"customer_unique_id\", year(\"order_purchase_timestamp\"), month(\"order_purchase_timestamp\")]) \\\n",
    "               .agg(sum(\"payment_value\").alias(\"total\"))"
   ]
  },
  {
   "cell_type": "code",
   "execution_count": 37,
   "id": "f7e6afa8",
   "metadata": {},
   "outputs": [
    {
     "name": "stdout",
     "output_type": "stream",
     "text": [
      "+--------------------+------------------------------+-------------------------------+--------+\n",
      "|  customer_unique_id|year(order_purchase_timestamp)|month(order_purchase_timestamp)|   total|\n",
      "+--------------------+------------------------------+-------------------------------+--------+\n",
      "|0a0a92112bd4c708c...|                          2017|                              9|13664.08|\n",
      "|da122df9eeddfedc1...|                          2017|                              4| 7571.63|\n",
      "|763c8b1c9c68a0229...|                          2018|                              7| 7274.88|\n",
      "|dc4802a71eae9be1d...|                          2017|                              2| 6929.31|\n",
      "|459bef486812aa252...|                          2018|                              7| 6922.21|\n",
      "|ff4159b92c40ebe40...|                          2017|                              5| 6726.66|\n",
      "|46450c74a0d8c5ca9...|                          2018|                              8| 6368.68|\n",
      "|4007669dec559734d...|                          2017|                             11| 6081.54|\n",
      "|5d0a2980b292d0490...|                          2018|                              7| 4809.44|\n",
      "|eebb5dda148d3893c...|                          2017|                              4| 4764.34|\n",
      "+--------------------+------------------------------+-------------------------------+--------+\n",
      "only showing top 10 rows\n",
      "\n"
     ]
    }
   ],
   "source": [
    "df1.orderBy(desc(\"total\")).show(10)"
   ]
  },
  {
   "cell_type": "code",
   "execution_count": 62,
   "id": "933546d2",
   "metadata": {},
   "outputs": [],
   "source": [
    "last_year = year(col(\"current_timestamp\")) - 5\n",
    "window = Window.partitionBy(\"month\").orderBy(desc(\"total\"))\n",
    "df = orders_df.filter(year(col('order_purchase_timestamp')) == last_year) \\\n",
    "              .join(payments_df, payments_df.order_id == orders_df.order_id).drop(payments_df.order_id) \\\n",
    "              .join(customers_df, customers_df.customer_id == orders_df.customer_id).drop(orders_df.customer_id) \\\n",
    "              .groupBy([\"customer_unique_id\", month(col('order_purchase_timestamp')).alias(\"month\")]) \\\n",
    "              .agg(sum(\"payment_value\").alias(\"total\")) \\\n",
    "              .withColumn(\"rank\", rank().over(window)).filter(col('rank') == 1) \\\n",
    "              .select(\"customer_unique_id\", \"month\", \"total\").orderBy(\"month\")"
   ]
  },
  {
   "cell_type": "code",
   "execution_count": 63,
   "id": "9d8d097c",
   "metadata": {},
   "outputs": [
    {
     "name": "stderr",
     "output_type": "stream",
     "text": [
      "[Stage 130:================================================>    (182 + 8) / 200]\r"
     ]
    },
    {
     "name": "stdout",
     "output_type": "stream",
     "text": [
      "+--------------------+-----+------------------+\n",
      "|  customer_unique_id|month|             total|\n",
      "+--------------------+-----+------------------+\n",
      "|ee2bb06c1d3f368e9...|    1|           3016.01|\n",
      "|dc4802a71eae9be1d...|    2|           6929.31|\n",
      "|011875f0176909c5c...|    3|           4016.91|\n",
      "|da122df9eeddfedc1...|    4|           7571.63|\n",
      "|ff4159b92c40ebe40...|    5|           6726.66|\n",
      "|ff0ae98646e7bbb41...|    6|           3048.27|\n",
      "|6172bd5b7f52ade8c...|    7|           3041.73|\n",
      "|60b2ec19b8c18082c...|    8|           2692.82|\n",
      "|0a0a92112bd4c708c...|    9|          13664.08|\n",
      "|895617ab63a9ad888...|   10|            3126.5|\n",
      "|c6111f70f40b3420e...|   10|            3126.5|\n",
      "|4007669dec559734d...|   11|           6081.54|\n",
      "|7a96eb0a685f5c19b...|   12|3297.3999999999996|\n",
      "+--------------------+-----+------------------+\n",
      "\n"
     ]
    },
    {
     "name": "stderr",
     "output_type": "stream",
     "text": [
      "\r",
      "                                                                                \r"
     ]
    }
   ],
   "source": [
    "df.show()"
   ]
  },
  {
   "cell_type": "code",
   "execution_count": 64,
   "id": "63c6b00b",
   "metadata": {},
   "outputs": [
    {
     "name": "stderr",
     "output_type": "stream",
     "text": [
      "                                                                                \r"
     ]
    },
    {
     "data": {
      "text/html": [
       "<div>\n",
       "<style scoped>\n",
       "    .dataframe tbody tr th:only-of-type {\n",
       "        vertical-align: middle;\n",
       "    }\n",
       "\n",
       "    .dataframe tbody tr th {\n",
       "        vertical-align: top;\n",
       "    }\n",
       "\n",
       "    .dataframe thead th {\n",
       "        text-align: right;\n",
       "    }\n",
       "</style>\n",
       "<table border=\"1\" class=\"dataframe\">\n",
       "  <thead>\n",
       "    <tr style=\"text-align: right;\">\n",
       "      <th></th>\n",
       "      <th>customer_unique_id</th>\n",
       "      <th>month</th>\n",
       "      <th>total</th>\n",
       "    </tr>\n",
       "  </thead>\n",
       "  <tbody>\n",
       "    <tr>\n",
       "      <th>0</th>\n",
       "      <td>ee2bb06c1d3f368e92084edefb7e4b57</td>\n",
       "      <td>1</td>\n",
       "      <td>3016.01</td>\n",
       "    </tr>\n",
       "    <tr>\n",
       "      <th>1</th>\n",
       "      <td>dc4802a71eae9be1dd28f5d788ceb526</td>\n",
       "      <td>2</td>\n",
       "      <td>6929.31</td>\n",
       "    </tr>\n",
       "    <tr>\n",
       "      <th>2</th>\n",
       "      <td>011875f0176909c5cf0b14a9138bb691</td>\n",
       "      <td>3</td>\n",
       "      <td>4016.91</td>\n",
       "    </tr>\n",
       "    <tr>\n",
       "      <th>3</th>\n",
       "      <td>da122df9eeddfedc1dc1f5349a1a690c</td>\n",
       "      <td>4</td>\n",
       "      <td>7571.63</td>\n",
       "    </tr>\n",
       "    <tr>\n",
       "      <th>4</th>\n",
       "      <td>ff4159b92c40ebe40454e3e6a7c35ed6</td>\n",
       "      <td>5</td>\n",
       "      <td>6726.66</td>\n",
       "    </tr>\n",
       "    <tr>\n",
       "      <th>5</th>\n",
       "      <td>ff0ae98646e7bbb41cf0f0d3991fef98</td>\n",
       "      <td>6</td>\n",
       "      <td>3048.27</td>\n",
       "    </tr>\n",
       "    <tr>\n",
       "      <th>6</th>\n",
       "      <td>6172bd5b7f52ade8c6c4548b448ff54f</td>\n",
       "      <td>7</td>\n",
       "      <td>3041.73</td>\n",
       "    </tr>\n",
       "    <tr>\n",
       "      <th>7</th>\n",
       "      <td>60b2ec19b8c18082cdb5180106a97cb5</td>\n",
       "      <td>8</td>\n",
       "      <td>2692.82</td>\n",
       "    </tr>\n",
       "    <tr>\n",
       "      <th>8</th>\n",
       "      <td>0a0a92112bd4c708ca5fde585afaa872</td>\n",
       "      <td>9</td>\n",
       "      <td>13664.08</td>\n",
       "    </tr>\n",
       "    <tr>\n",
       "      <th>9</th>\n",
       "      <td>c6111f70f40b3420e387493c627c27fa</td>\n",
       "      <td>10</td>\n",
       "      <td>3126.50</td>\n",
       "    </tr>\n",
       "    <tr>\n",
       "      <th>10</th>\n",
       "      <td>895617ab63a9ad8881d9470f7427cd25</td>\n",
       "      <td>10</td>\n",
       "      <td>3126.50</td>\n",
       "    </tr>\n",
       "    <tr>\n",
       "      <th>11</th>\n",
       "      <td>4007669dec559734d6f53e029e360987</td>\n",
       "      <td>11</td>\n",
       "      <td>6081.54</td>\n",
       "    </tr>\n",
       "    <tr>\n",
       "      <th>12</th>\n",
       "      <td>7a96eb0a685f5c19b7dad29fc802aa64</td>\n",
       "      <td>12</td>\n",
       "      <td>3297.40</td>\n",
       "    </tr>\n",
       "  </tbody>\n",
       "</table>\n",
       "</div>"
      ],
      "text/plain": [
       "                  customer_unique_id  month     total\n",
       "0   ee2bb06c1d3f368e92084edefb7e4b57      1   3016.01\n",
       "1   dc4802a71eae9be1dd28f5d788ceb526      2   6929.31\n",
       "2   011875f0176909c5cf0b14a9138bb691      3   4016.91\n",
       "3   da122df9eeddfedc1dc1f5349a1a690c      4   7571.63\n",
       "4   ff4159b92c40ebe40454e3e6a7c35ed6      5   6726.66\n",
       "5   ff0ae98646e7bbb41cf0f0d3991fef98      6   3048.27\n",
       "6   6172bd5b7f52ade8c6c4548b448ff54f      7   3041.73\n",
       "7   60b2ec19b8c18082cdb5180106a97cb5      8   2692.82\n",
       "8   0a0a92112bd4c708ca5fde585afaa872      9  13664.08\n",
       "9   c6111f70f40b3420e387493c627c27fa     10   3126.50\n",
       "10  895617ab63a9ad8881d9470f7427cd25     10   3126.50\n",
       "11  4007669dec559734d6f53e029e360987     11   6081.54\n",
       "12  7a96eb0a685f5c19b7dad29fc802aa64     12   3297.40"
      ]
     },
     "execution_count": 64,
     "metadata": {},
     "output_type": "execute_result"
    }
   ],
   "source": [
    "df.toPandas()"
   ]
  },
  {
   "cell_type": "code",
   "execution_count": 76,
   "id": "791e2165",
   "metadata": {},
   "outputs": [],
   "source": [
    "window = Window.partitionBy(\"month\").orderBy(desc(\"total\"))\n",
    "df = orders_df.filter(year(col('order_purchase_timestamp')) == last_year) \\\n",
    "              .join(payments_df, payments_df.order_id == orders_df.order_id).drop(payments_df.order_id) \\\n",
    "              .join(customers_df, customers_df.customer_id == orders_df.customer_id).drop(orders_df.customer_id) \\\n",
    "              .filter(col('customer_unique_id') == \"0a0a92112bd4c708ca5fde585afaa872\")"
   ]
  },
  {
   "cell_type": "code",
   "execution_count": 78,
   "id": "79f97e43",
   "metadata": {},
   "outputs": [
    {
     "data": {
      "text/html": [
       "<div>\n",
       "<style scoped>\n",
       "    .dataframe tbody tr th:only-of-type {\n",
       "        vertical-align: middle;\n",
       "    }\n",
       "\n",
       "    .dataframe tbody tr th {\n",
       "        vertical-align: top;\n",
       "    }\n",
       "\n",
       "    .dataframe thead th {\n",
       "        text-align: right;\n",
       "    }\n",
       "</style>\n",
       "<table border=\"1\" class=\"dataframe\">\n",
       "  <thead>\n",
       "    <tr style=\"text-align: right;\">\n",
       "      <th></th>\n",
       "      <th>order_id</th>\n",
       "      <th>order_status</th>\n",
       "      <th>order_purchase_timestamp</th>\n",
       "      <th>order_approved_at</th>\n",
       "      <th>order_delivered_carrier_date</th>\n",
       "      <th>order_delivered_customer_date</th>\n",
       "      <th>order_estimated_delivery_date</th>\n",
       "      <th>payment_sequential</th>\n",
       "      <th>payment_type</th>\n",
       "      <th>payment_installments</th>\n",
       "      <th>payment_value</th>\n",
       "      <th>customer_id</th>\n",
       "      <th>customer_unique_id</th>\n",
       "      <th>customer_zip_code_prefix</th>\n",
       "      <th>customer_city</th>\n",
       "      <th>customer_state</th>\n",
       "    </tr>\n",
       "  </thead>\n",
       "  <tbody>\n",
       "    <tr>\n",
       "      <th>0</th>\n",
       "      <td>03caa2c082116e1d31e67e9ae3700499</td>\n",
       "      <td>delivered</td>\n",
       "      <td>2017-09-29 15:24:52</td>\n",
       "      <td>2017-10-02 15:28:20</td>\n",
       "      <td>2017-10-10 15:43:17</td>\n",
       "      <td>2017-10-17 18:22:29</td>\n",
       "      <td>2017-10-23 00:00:00</td>\n",
       "      <td>1</td>\n",
       "      <td>credit_card</td>\n",
       "      <td>1</td>\n",
       "      <td>13664.08</td>\n",
       "      <td>1617b1357756262bfa56ab541c47bc16</td>\n",
       "      <td>0a0a92112bd4c708ca5fde585afaa872</td>\n",
       "      <td>20080</td>\n",
       "      <td>rio de janeiro</td>\n",
       "      <td>RJ</td>\n",
       "    </tr>\n",
       "  </tbody>\n",
       "</table>\n",
       "</div>"
      ],
      "text/plain": [
       "                           order_id order_status order_purchase_timestamp  \\\n",
       "0  03caa2c082116e1d31e67e9ae3700499    delivered      2017-09-29 15:24:52   \n",
       "\n",
       "     order_approved_at order_delivered_carrier_date  \\\n",
       "0  2017-10-02 15:28:20          2017-10-10 15:43:17   \n",
       "\n",
       "  order_delivered_customer_date order_estimated_delivery_date  \\\n",
       "0           2017-10-17 18:22:29           2017-10-23 00:00:00   \n",
       "\n",
       "   payment_sequential payment_type  payment_installments  payment_value  \\\n",
       "0                   1  credit_card                     1       13664.08   \n",
       "\n",
       "                        customer_id                customer_unique_id  \\\n",
       "0  1617b1357756262bfa56ab541c47bc16  0a0a92112bd4c708ca5fde585afaa872   \n",
       "\n",
       "   customer_zip_code_prefix   customer_city customer_state  \n",
       "0                     20080  rio de janeiro             RJ  "
      ]
     },
     "execution_count": 78,
     "metadata": {},
     "output_type": "execute_result"
    }
   ],
   "source": [
    "df.toPandas()"
   ]
  },
  {
   "cell_type": "code",
   "execution_count": 79,
   "id": "b186a45f",
   "metadata": {},
   "outputs": [
    {
     "ename": "NameError",
     "evalue": "name 'items_df' is not defined",
     "output_type": "error",
     "traceback": [
      "\u001b[0;31m---------------------------------------------------------------------------\u001b[0m",
      "\u001b[0;31mNameError\u001b[0m                                 Traceback (most recent call last)",
      "\u001b[0;32m/tmp/ipykernel_3814/2869785116.py\u001b[0m in \u001b[0;36m<module>\u001b[0;34m\u001b[0m\n\u001b[0;32m----> 1\u001b[0;31m \u001b[0mitems_df\u001b[0m\u001b[0;34m.\u001b[0m\u001b[0mtoPandas\u001b[0m\u001b[0;34m(\u001b[0m\u001b[0;34m)\u001b[0m\u001b[0;34m\u001b[0m\u001b[0;34m\u001b[0m\u001b[0m\n\u001b[0m",
      "\u001b[0;31mNameError\u001b[0m: name 'items_df' is not defined"
     ]
    }
   ],
   "source": []
  },
  {
   "cell_type": "code",
   "execution_count": 65,
   "id": "531863c0",
   "metadata": {},
   "outputs": [],
   "source": [
    "import matplotlib.pyplot as plt"
   ]
  },
  {
   "cell_type": "code",
   "execution_count": 66,
   "id": "3a91b770",
   "metadata": {},
   "outputs": [
    {
     "name": "stderr",
     "output_type": "stream",
     "text": [
      "                                                                                \r"
     ]
    }
   ],
   "source": [
    "data = df.select('total').orderBy(\"month\").rdd.flatMap(lambda x: x).collect()"
   ]
  },
  {
   "cell_type": "code",
   "execution_count": 67,
   "id": "d31b7978",
   "metadata": {},
   "outputs": [],
   "source": [
    "months = ['January', 'February', 'March', 'April', 'May', 'June', 'July',\n",
    "          'August', 'September', 'October', 'November', 'December']"
   ]
  },
  {
   "cell_type": "code",
   "execution_count": 72,
   "id": "7b9d65e7",
   "metadata": {},
   "outputs": [
    {
     "data": {
      "image/png": "[encoded data removed]",
      "text/plain": [
       "<Figure size 432x288 with 1 Axes>"
      ]
     },
     "metadata": {},
     "output_type": "display_data"
    }
   ],
   "source": [
    "plt.figure()\n",
    "plt.pie(data, labels=months, shadow=False)\n",
    "plt.show()"
   ]
  },
  {
   "cell_type": "code",
   "execution_count": 80,
   "id": "4380ae25",
   "metadata": {},
   "outputs": [],
   "source": [
    "df = orders_df.join(payments_df, payments_df.order_id == orders_df.order_id).drop(payments_df.order_id) \\\n",
    "              .join(customers_df, customers_df.customer_id == orders_df.customer_id).drop(orders_df.customer_id) \\\n",
    "              .filter(year(col('order_purchase_timestamp')) == 2017) \\\n",
    "              .groupBy([\"customer_unique_id\", month(col('order_purchase_timestamp')).alias(\"month\")]) \\\n",
    "              .agg(sum(\"payment_value\").alias(\"total\"))"
   ]
  },
  {
   "cell_type": "code",
   "execution_count": 81,
   "id": "cbdf7103",
   "metadata": {},
   "outputs": [
    {
     "name": "stderr",
     "output_type": "stream",
     "text": [
      "\r",
      "[Stage 160:========>        (1 + 1) / 2][Stage 161:=====>           (1 + 2) / 3]\r",
      "\r",
      "                                                                                \r"
     ]
    },
    {
     "name": "stdout",
     "output_type": "stream",
     "text": [
      "+--------------------+-----+------+\n",
      "|  customer_unique_id|month| total|\n",
      "+--------------------+-----+------+\n",
      "|e3989ce8a4e6df11d...|   12| 72.68|\n",
      "|6fd9de387d337ad31...|    2| 36.77|\n",
      "|f08e73cf7f4d6403e...|   11| 71.14|\n",
      "|a10de9d953278e90b...|    3| 24.86|\n",
      "|6d5445cddf56ea4ed...|    7| 89.17|\n",
      "|fc2c474ca9fc1e074...|   12| 92.76|\n",
      "|cca20bbdb16d521c1...|   11| 79.56|\n",
      "|9c7bc34fa4b2fd8e3...|   11|133.24|\n",
      "|9295fc2f2f8647c5b...|   12| 30.09|\n",
      "|24a25a70ff5e786e8...|    4| 70.98|\n",
      "|a160f2a63e7a2d7da...|    4|101.14|\n",
      "|64b576fb70d441e8f...|    2|218.04|\n",
      "|e578d96e5bd385142...|   12|167.53|\n",
      "|252c0dcac11ce99e1...|   12| 90.46|\n",
      "|784934fd0ef7f0acb...|    3| 36.89|\n",
      "|8373cc590948654eb...|    9|190.37|\n",
      "|79f3d6597edbdbed1...|    2|  66.9|\n",
      "|6ca566e77a13d0eb5...|    9|608.87|\n",
      "|bdc9d7c00e3c15045...|    3|192.56|\n",
      "|3944807d83676820c...|   12|215.07|\n",
      "+--------------------+-----+------+\n",
      "only showing top 20 rows\n",
      "\n"
     ]
    }
   ],
   "source": [
    "df.show()"
   ]
  },
  {
   "cell_type": "code",
   "execution_count": null,
   "id": "8c7874c6",
   "metadata": {},
   "outputs": [],
   "source": []
  }
 ],
 "metadata": {
  "kernelspec": {
   "display_name": "Python 3 (ipykernel)",
   "language": "python",
   "name": "python3"
  },
  "language_info": {
   "codemirror_mode": {
    "name": "ipython",
    "version": 3
   },
   "file_extension": ".py",
   "mimetype": "text/x-python",
   "name": "python",
   "nbconvert_exporter": "python",
   "pygments_lexer": "ipython3",
   "version": "3.9.7"
  }
 },
 "nbformat": 4,
 "nbformat_minor": 5
}
